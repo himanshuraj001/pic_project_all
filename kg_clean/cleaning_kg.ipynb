{
  "cells": [
    {
      "cell_type": "code",
      "execution_count": null,
      "metadata": {
        "id": "Ba71B_Lsrk0O"
      },
      "outputs": [],
      "source": [
        "import pandas as pd\n",
        "data=pd.read_csv(\"knowledge_graph_data_by_press_all.csv\",sep=\";\")"
      ]
    },
    {
      "cell_type": "code",
      "execution_count": 28,
      "metadata": {
        "colab": {
          "base_uri": "https://localhost:8080/"
        },
        "id": "q26y9hCErkxV",
        "outputId": "2e495416-f497-4261-a3c7-1f42bcc366b9"
      },
      "outputs": [
        {
          "data": {
            "text/plain": [
              "(1873, 9)"
            ]
          },
          "execution_count": 28,
          "metadata": {},
          "output_type": "execute_result"
        }
      ],
      "source": [
        "data.shape"
      ]
    },
    {
      "cell_type": "code",
      "execution_count": null,
      "metadata": {
        "id": "_XQ5jK8Prkuo"
      },
      "outputs": [],
      "source": []
    },
    {
      "cell_type": "code",
      "execution_count": null,
      "metadata": {
        "id": "R6jzCuCorkrz"
      },
      "outputs": [],
      "source": []
    },
    {
      "cell_type": "code",
      "execution_count": null,
      "metadata": {
        "id": "7iJaPQS1rkpB"
      },
      "outputs": [],
      "source": []
    },
    {
      "cell_type": "code",
      "execution_count": 29,
      "metadata": {
        "colab": {
          "base_uri": "https://localhost:8080/",
          "height": 293
        },
        "id": "nlSYTCHHeWzr",
        "outputId": "bcdf2dca-1547-4b6d-a307-892392d881ff"
      },
      "outputs": [
        {
          "data": {
            "text/html": [
              "<div>\n",
              "<style scoped>\n",
              "    .dataframe tbody tr th:only-of-type {\n",
              "        vertical-align: middle;\n",
              "    }\n",
              "\n",
              "    .dataframe tbody tr th {\n",
              "        vertical-align: top;\n",
              "    }\n",
              "\n",
              "    .dataframe thead th {\n",
              "        text-align: right;\n",
              "    }\n",
              "</style>\n",
              "<table border=\"1\" class=\"dataframe\">\n",
              "  <thead>\n",
              "    <tr style=\"text-align: right;\">\n",
              "      <th></th>\n",
              "      <th>Complainant</th>\n",
              "      <th>Against</th>\n",
              "      <th>Date</th>\n",
              "      <th>Decision</th>\n",
              "      <th>ComplaintType</th>\n",
              "      <th>ReportName</th>\n",
              "      <th>Locations</th>\n",
              "      <th>PrimaryKey</th>\n",
              "      <th>Complaint</th>\n",
              "    </tr>\n",
              "  </thead>\n",
              "  <tbody>\n",
              "    <tr>\n",
              "      <th>0</th>\n",
              "      <td>Shri Dinesh Singh Bhadoriya</td>\n",
              "      <td>Shri Mahavir Bhagel</td>\n",
              "      <td>15.11.2022</td>\n",
              "      <td>Upheld</td>\n",
              "      <td>Harassment of Newsmen</td>\n",
              "      <td>AnnualReport2023</td>\n",
              "      <td>Gwalior, Madhya Pradesh</td>\n",
              "      <td>0</td>\n",
              "      <td>Complaint of Shri Dinesh Singh Bhadoriya, Shri...</td>\n",
              "    </tr>\n",
              "    <tr>\n",
              "      <th>1</th>\n",
              "      <td>Shri Yogendra Singh Bhadoriya</td>\n",
              "      <td>Shri Mahavir Bhagel</td>\n",
              "      <td>15.11.2022</td>\n",
              "      <td>Upheld</td>\n",
              "      <td>Harassment of Newsmen</td>\n",
              "      <td>AnnualReport2023</td>\n",
              "      <td>Gwalior, Madhya Pradesh</td>\n",
              "      <td>0</td>\n",
              "      <td>Complaint of Shri Dinesh Singh Bhadoriya, Shri...</td>\n",
              "    </tr>\n",
              "    <tr>\n",
              "      <th>2</th>\n",
              "      <td>Sumer Singh Narwariya</td>\n",
              "      <td>Shri Mahavir Bhagel</td>\n",
              "      <td>15.11.2022</td>\n",
              "      <td>Upheld</td>\n",
              "      <td>Harassment of Newsmen</td>\n",
              "      <td>AnnualReport2023</td>\n",
              "      <td>Gwalior, Madhya Pradesh</td>\n",
              "      <td>0</td>\n",
              "      <td>Complaint of Shri Dinesh Singh Bhadoriya, Shri...</td>\n",
              "    </tr>\n",
              "    <tr>\n",
              "      <th>3</th>\n",
              "      <td>Shri Yogendra Kashinath Dorkar</td>\n",
              "      <td>Dr. Rajendra Bharud</td>\n",
              "      <td>15.11.2022</td>\n",
              "      <td>Disposed of (Complainant Censured)</td>\n",
              "      <td>Harassment of Newsmen</td>\n",
              "      <td>AnnualReport2023</td>\n",
              "      <td>Maharashtra</td>\n",
              "      <td>1</td>\n",
              "      <td>Complaint of Shri Yogendra Kashinath Dorkar, E...</td>\n",
              "    </tr>\n",
              "    <tr>\n",
              "      <th>4</th>\n",
              "      <td>Shri Jagpal Singh</td>\n",
              "      <td>Shri Praveen Kumar</td>\n",
              "      <td>28.02.2023</td>\n",
              "      <td>Disposed of (with liberty to the Complainant t...</td>\n",
              "      <td>Harassment of Newsmen</td>\n",
              "      <td>AnnualReport2023</td>\n",
              "      <td>Gonda, UP</td>\n",
              "      <td>2</td>\n",
              "      <td>Complaint of Shri Jagpal Singh, Correspondent,...</td>\n",
              "    </tr>\n",
              "  </tbody>\n",
              "</table>\n",
              "</div>"
            ],
            "text/plain": [
              "                      Complainant              Against        Date  \\\n",
              "0     Shri Dinesh Singh Bhadoriya  Shri Mahavir Bhagel  15.11.2022   \n",
              "1   Shri Yogendra Singh Bhadoriya  Shri Mahavir Bhagel  15.11.2022   \n",
              "2           Sumer Singh Narwariya  Shri Mahavir Bhagel  15.11.2022   \n",
              "3  Shri Yogendra Kashinath Dorkar  Dr. Rajendra Bharud  15.11.2022   \n",
              "4               Shri Jagpal Singh   Shri Praveen Kumar  28.02.2023   \n",
              "\n",
              "                                            Decision          ComplaintType  \\\n",
              "0                                             Upheld  Harassment of Newsmen   \n",
              "1                                             Upheld  Harassment of Newsmen   \n",
              "2                                             Upheld  Harassment of Newsmen   \n",
              "3                 Disposed of (Complainant Censured)  Harassment of Newsmen   \n",
              "4  Disposed of (with liberty to the Complainant t...  Harassment of Newsmen   \n",
              "\n",
              "         ReportName                Locations  PrimaryKey  \\\n",
              "0  AnnualReport2023  Gwalior, Madhya Pradesh           0   \n",
              "1  AnnualReport2023  Gwalior, Madhya Pradesh           0   \n",
              "2  AnnualReport2023  Gwalior, Madhya Pradesh           0   \n",
              "3  AnnualReport2023              Maharashtra           1   \n",
              "4  AnnualReport2023                Gonda, UP           2   \n",
              "\n",
              "                                           Complaint  \n",
              "0  Complaint of Shri Dinesh Singh Bhadoriya, Shri...  \n",
              "1  Complaint of Shri Dinesh Singh Bhadoriya, Shri...  \n",
              "2  Complaint of Shri Dinesh Singh Bhadoriya, Shri...  \n",
              "3  Complaint of Shri Yogendra Kashinath Dorkar, E...  \n",
              "4  Complaint of Shri Jagpal Singh, Correspondent,...  "
            ]
          },
          "execution_count": 29,
          "metadata": {},
          "output_type": "execute_result"
        }
      ],
      "source": [
        "import pandas as pd\n",
        "df=pd.read_csv('knowledge_graph_data_by_press_all.csv',sep=\";\")\n",
        "df.head()"
      ]
    },
    {
      "cell_type": "code",
      "execution_count": 31,
      "metadata": {
        "colab": {
          "base_uri": "https://localhost:8080/"
        },
        "id": "ibak0lzwq7y4",
        "outputId": "50d663b9-bdb6-4546-8377-cc9b1aba5792"
      },
      "outputs": [
        {
          "data": {
            "text/plain": [
              "(1873, 9)"
            ]
          },
          "execution_count": 31,
          "metadata": {},
          "output_type": "execute_result"
        }
      ],
      "source": [
        "df.shape"
      ]
    },
    {
      "cell_type": "code",
      "execution_count": 30,
      "metadata": {
        "colab": {
          "base_uri": "https://localhost:8080/"
        },
        "id": "iw3pXWG1q-Yt",
        "outputId": "ca90e0c8-655a-4bbc-85ef-9d2a5d4cab99"
      },
      "outputs": [
        {
          "data": {
            "text/plain": [
              "1485"
            ]
          },
          "execution_count": 30,
          "metadata": {},
          "output_type": "execute_result"
        }
      ],
      "source": [
        "df['PrimaryKey'].nunique()"
      ]
    },
    {
      "cell_type": "code",
      "execution_count": 32,
      "metadata": {
        "colab": {
          "base_uri": "https://localhost:8080/",
          "height": 622
        },
        "id": "EyFEY3ywentI",
        "outputId": "f1732958-4def-4f8c-9e6f-a22eba738ba1"
      },
      "outputs": [
        {
          "name": "stdout",
          "output_type": "stream",
          "text": [
            "DataFrame with single occurrence of PrimaryKey:\n"
          ]
        },
        {
          "data": {
            "text/html": [
              "<div>\n",
              "<style scoped>\n",
              "    .dataframe tbody tr th:only-of-type {\n",
              "        vertical-align: middle;\n",
              "    }\n",
              "\n",
              "    .dataframe tbody tr th {\n",
              "        vertical-align: top;\n",
              "    }\n",
              "\n",
              "    .dataframe thead th {\n",
              "        text-align: right;\n",
              "    }\n",
              "</style>\n",
              "<table border=\"1\" class=\"dataframe\">\n",
              "  <thead>\n",
              "    <tr style=\"text-align: right;\">\n",
              "      <th></th>\n",
              "      <th>Complainant</th>\n",
              "      <th>Against</th>\n",
              "      <th>Date</th>\n",
              "      <th>Decision</th>\n",
              "      <th>ComplaintType</th>\n",
              "      <th>ReportName</th>\n",
              "      <th>Locations</th>\n",
              "      <th>PrimaryKey</th>\n",
              "      <th>Complaint</th>\n",
              "    </tr>\n",
              "  </thead>\n",
              "  <tbody>\n",
              "    <tr>\n",
              "      <th>3</th>\n",
              "      <td>Shri Yogendra Kashinath Dorkar</td>\n",
              "      <td>Dr. Rajendra Bharud</td>\n",
              "      <td>15.11.2022</td>\n",
              "      <td>Disposed of (Complainant Censured)</td>\n",
              "      <td>Harassment of Newsmen</td>\n",
              "      <td>AnnualReport2023</td>\n",
              "      <td>Maharashtra</td>\n",
              "      <td>1</td>\n",
              "      <td>Complaint of Shri Yogendra Kashinath Dorkar, E...</td>\n",
              "    </tr>\n",
              "    <tr>\n",
              "      <th>6</th>\n",
              "      <td>Shri Anam Ibrahim</td>\n",
              "      <td>Director General of Police</td>\n",
              "      <td>28.02.2023</td>\n",
              "      <td>Disposed of for being sub- judice</td>\n",
              "      <td>Harassment of Newsmen</td>\n",
              "      <td>AnnualReport2023</td>\n",
              "      <td>Bhopal, Madhya Pradesh</td>\n",
              "      <td>3</td>\n",
              "      <td>Complaint of Shri Anam Ibrahim, Journalist, Sh...</td>\n",
              "    </tr>\n",
              "    <tr>\n",
              "      <th>7</th>\n",
              "      <td>Mr. Naveen Das</td>\n",
              "      <td>Information and Public Relations Director</td>\n",
              "      <td>15.11.2022</td>\n",
              "      <td>Disposed of being Withdrawn</td>\n",
              "      <td>Facilities to the Press</td>\n",
              "      <td>AnnualReport2023</td>\n",
              "      <td>Odisha</td>\n",
              "      <td>4</td>\n",
              "      <td>Complaint of Mr. Naveen Das, Editor, Satya Ra ...</td>\n",
              "    </tr>\n",
              "    <tr>\n",
              "      <th>8</th>\n",
              "      <td>Shri Sanjay Kumar Singh</td>\n",
              "      <td>Mrs. Suchita Kumari</td>\n",
              "      <td>22.09.2022</td>\n",
              "      <td>Rejected</td>\n",
              "      <td>Curtailment of Press Freedom</td>\n",
              "      <td>AnnualReport2023</td>\n",
              "      <td>Bihar</td>\n",
              "      <td>10</td>\n",
              "      <td>Complaint of Shri Sanjay Kumar Singh, Bureau C...</td>\n",
              "    </tr>\n",
              "    <tr>\n",
              "      <th>9</th>\n",
              "      <td>Shri Yogesh Porwal</td>\n",
              "      <td>Shri Pawan Jain</td>\n",
              "      <td>NaN</td>\n",
              "      <td>Dropped as remedied</td>\n",
              "      <td>Harassment of Newsmen</td>\n",
              "      <td>AnnualReport2022</td>\n",
              "      <td>NaN</td>\n",
              "      <td>11</td>\n",
              "      <td>Complaint of Shri Yogesh Porwal, Editor/ Publi...</td>\n",
              "    </tr>\n",
              "  </tbody>\n",
              "</table>\n",
              "</div>"
            ],
            "text/plain": [
              "                      Complainant                                    Against  \\\n",
              "3  Shri Yogendra Kashinath Dorkar                        Dr. Rajendra Bharud   \n",
              "6               Shri Anam Ibrahim                 Director General of Police   \n",
              "7                  Mr. Naveen Das  Information and Public Relations Director   \n",
              "8         Shri Sanjay Kumar Singh                        Mrs. Suchita Kumari   \n",
              "9              Shri Yogesh Porwal                            Shri Pawan Jain   \n",
              "\n",
              "         Date                            Decision  \\\n",
              "3  15.11.2022  Disposed of (Complainant Censured)   \n",
              "6  28.02.2023   Disposed of for being sub- judice   \n",
              "7  15.11.2022         Disposed of being Withdrawn   \n",
              "8  22.09.2022                            Rejected   \n",
              "9         NaN                 Dropped as remedied   \n",
              "\n",
              "                  ComplaintType        ReportName               Locations  \\\n",
              "3         Harassment of Newsmen  AnnualReport2023             Maharashtra   \n",
              "6         Harassment of Newsmen  AnnualReport2023  Bhopal, Madhya Pradesh   \n",
              "7       Facilities to the Press  AnnualReport2023                  Odisha   \n",
              "8  Curtailment of Press Freedom  AnnualReport2023                   Bihar   \n",
              "9         Harassment of Newsmen  AnnualReport2022                     NaN   \n",
              "\n",
              "   PrimaryKey                                          Complaint  \n",
              "3           1  Complaint of Shri Yogendra Kashinath Dorkar, E...  \n",
              "6           3  Complaint of Shri Anam Ibrahim, Journalist, Sh...  \n",
              "7           4  Complaint of Mr. Naveen Das, Editor, Satya Ra ...  \n",
              "8          10  Complaint of Shri Sanjay Kumar Singh, Bureau C...  \n",
              "9          11  Complaint of Shri Yogesh Porwal, Editor/ Publi...  "
            ]
          },
          "metadata": {},
          "output_type": "display_data"
        },
        {
          "name": "stdout",
          "output_type": "stream",
          "text": [
            "\n",
            "DataFrame with remaining occurrences of PrimaryKey:\n"
          ]
        },
        {
          "data": {
            "text/html": [
              "<div>\n",
              "<style scoped>\n",
              "    .dataframe tbody tr th:only-of-type {\n",
              "        vertical-align: middle;\n",
              "    }\n",
              "\n",
              "    .dataframe tbody tr th {\n",
              "        vertical-align: top;\n",
              "    }\n",
              "\n",
              "    .dataframe thead th {\n",
              "        text-align: right;\n",
              "    }\n",
              "</style>\n",
              "<table border=\"1\" class=\"dataframe\">\n",
              "  <thead>\n",
              "    <tr style=\"text-align: right;\">\n",
              "      <th></th>\n",
              "      <th>Complainant</th>\n",
              "      <th>Against</th>\n",
              "      <th>Date</th>\n",
              "      <th>Decision</th>\n",
              "      <th>ComplaintType</th>\n",
              "      <th>ReportName</th>\n",
              "      <th>Locations</th>\n",
              "      <th>PrimaryKey</th>\n",
              "      <th>Complaint</th>\n",
              "    </tr>\n",
              "  </thead>\n",
              "  <tbody>\n",
              "    <tr>\n",
              "      <th>0</th>\n",
              "      <td>Shri Dinesh Singh Bhadoriya</td>\n",
              "      <td>Shri Mahavir Bhagel</td>\n",
              "      <td>15.11.2022</td>\n",
              "      <td>Upheld</td>\n",
              "      <td>Harassment of Newsmen</td>\n",
              "      <td>AnnualReport2023</td>\n",
              "      <td>Gwalior, Madhya Pradesh</td>\n",
              "      <td>0</td>\n",
              "      <td>Complaint of Shri Dinesh Singh Bhadoriya, Shri...</td>\n",
              "    </tr>\n",
              "    <tr>\n",
              "      <th>1</th>\n",
              "      <td>Shri Yogendra Singh Bhadoriya</td>\n",
              "      <td>Shri Mahavir Bhagel</td>\n",
              "      <td>15.11.2022</td>\n",
              "      <td>Upheld</td>\n",
              "      <td>Harassment of Newsmen</td>\n",
              "      <td>AnnualReport2023</td>\n",
              "      <td>Gwalior, Madhya Pradesh</td>\n",
              "      <td>0</td>\n",
              "      <td>Complaint of Shri Dinesh Singh Bhadoriya, Shri...</td>\n",
              "    </tr>\n",
              "    <tr>\n",
              "      <th>2</th>\n",
              "      <td>Sumer Singh Narwariya</td>\n",
              "      <td>Shri Mahavir Bhagel</td>\n",
              "      <td>15.11.2022</td>\n",
              "      <td>Upheld</td>\n",
              "      <td>Harassment of Newsmen</td>\n",
              "      <td>AnnualReport2023</td>\n",
              "      <td>Gwalior, Madhya Pradesh</td>\n",
              "      <td>0</td>\n",
              "      <td>Complaint of Shri Dinesh Singh Bhadoriya, Shri...</td>\n",
              "    </tr>\n",
              "    <tr>\n",
              "      <th>4</th>\n",
              "      <td>Shri Jagpal Singh</td>\n",
              "      <td>Shri Praveen Kumar</td>\n",
              "      <td>28.02.2023</td>\n",
              "      <td>Disposed of (with liberty to the Complainant t...</td>\n",
              "      <td>Harassment of Newsmen</td>\n",
              "      <td>AnnualReport2023</td>\n",
              "      <td>Gonda, UP</td>\n",
              "      <td>2</td>\n",
              "      <td>Complaint of Shri Jagpal Singh, Correspondent,...</td>\n",
              "    </tr>\n",
              "    <tr>\n",
              "      <th>5</th>\n",
              "      <td>Dainik Aaj</td>\n",
              "      <td>Shri Praveen Kumar</td>\n",
              "      <td>28.02.2023</td>\n",
              "      <td>Disposed of (with liberty to the Complainant t...</td>\n",
              "      <td>Harassment of Newsmen</td>\n",
              "      <td>AnnualReport2023</td>\n",
              "      <td>Gonda, UP</td>\n",
              "      <td>2</td>\n",
              "      <td>Complaint of Shri Jagpal Singh, Correspondent,...</td>\n",
              "    </tr>\n",
              "    <tr>\n",
              "      <th>11</th>\n",
              "      <td>Shri Lavlesh Pandey</td>\n",
              "      <td>Police Authorities</td>\n",
              "      <td>NaN</td>\n",
              "      <td>Dismissed</td>\n",
              "      <td>Harassment of Newsmen</td>\n",
              "      <td>AnnualReport2022</td>\n",
              "      <td>NaN</td>\n",
              "      <td>13</td>\n",
              "      <td>Complaint of Shri Lavlesh Pandey, Editor in Ch...</td>\n",
              "    </tr>\n",
              "    <tr>\n",
              "      <th>12</th>\n",
              "      <td>Editor in Chief</td>\n",
              "      <td>Police Authorities</td>\n",
              "      <td>NaN</td>\n",
              "      <td>Dismissed</td>\n",
              "      <td>Harassment of Newsmen</td>\n",
              "      <td>AnnualReport2022</td>\n",
              "      <td>NaN</td>\n",
              "      <td>13</td>\n",
              "      <td>Complaint of Shri Lavlesh Pandey, Editor in Ch...</td>\n",
              "    </tr>\n",
              "    <tr>\n",
              "      <th>13</th>\n",
              "      <td>Shri Manish Kumar Rathor</td>\n",
              "      <td>Tehsildar</td>\n",
              "      <td>NaN</td>\n",
              "      <td>Closure of Case</td>\n",
              "      <td>Harassment of Newsmen</td>\n",
              "      <td>AnnualReport2022</td>\n",
              "      <td>M.P</td>\n",
              "      <td>14</td>\n",
              "      <td>Complaint of Shri Manish Kumar Rathor, Editor,...</td>\n",
              "    </tr>\n",
              "    <tr>\n",
              "      <th>14</th>\n",
              "      <td>Shri Manish Kumar Rathor</td>\n",
              "      <td>M.P.</td>\n",
              "      <td>NaN</td>\n",
              "      <td>Closure of Case</td>\n",
              "      <td>Harassment of Newsmen</td>\n",
              "      <td>AnnualReport2022</td>\n",
              "      <td>M.P</td>\n",
              "      <td>14</td>\n",
              "      <td>Complaint of Shri Manish Kumar Rathor, Editor,...</td>\n",
              "    </tr>\n",
              "    <tr>\n",
              "      <th>22</th>\n",
              "      <td>Shri Kulwant Singh</td>\n",
              "      <td>Smt. Jyoti Shah Narwariya</td>\n",
              "      <td>NaN</td>\n",
              "      <td>Disposed of with directions</td>\n",
              "      <td>Harassment of Newsmen</td>\n",
              "      <td>AnnualReport2022</td>\n",
              "      <td>Bhopal, M.P</td>\n",
              "      <td>22</td>\n",
              "      <td>Complaint of Shri Kulwant Singh, Managing Edit...</td>\n",
              "    </tr>\n",
              "    <tr>\n",
              "      <th>23</th>\n",
              "      <td>Shri Kulwant Singh</td>\n",
              "      <td>Shri Lakhvinder Singh Gill</td>\n",
              "      <td>NaN</td>\n",
              "      <td>Disposed of with directions</td>\n",
              "      <td>Harassment of Newsmen</td>\n",
              "      <td>AnnualReport2022</td>\n",
              "      <td>Bhopal, M.P</td>\n",
              "      <td>22</td>\n",
              "      <td>Complaint of Shri Kulwant Singh, Managing Edit...</td>\n",
              "    </tr>\n",
              "    <tr>\n",
              "      <th>24</th>\n",
              "      <td>Shri Kulwant Singh</td>\n",
              "      <td>Shri Pratap Singh Thakur</td>\n",
              "      <td>NaN</td>\n",
              "      <td>Disposed of with directions</td>\n",
              "      <td>Harassment of Newsmen</td>\n",
              "      <td>AnnualReport2022</td>\n",
              "      <td>Bhopal, M.P</td>\n",
              "      <td>22</td>\n",
              "      <td>Complaint of Shri Kulwant Singh, Managing Edit...</td>\n",
              "    </tr>\n",
              "    <tr>\n",
              "      <th>35</th>\n",
              "      <td>Shri Deepak Nihalchand Gupta</td>\n",
              "      <td>Police Authorities</td>\n",
              "      <td>21-09-2020</td>\n",
              "      <td>Disposed of on assurance given by police</td>\n",
              "      <td>Harassment of Newsmen</td>\n",
              "      <td>AnnualReport2021</td>\n",
              "      <td>Nagpur, Maharashtra</td>\n",
              "      <td>43</td>\n",
              "      <td>Complaint of Shri Deepak Nihalchand Gupta, Edi...</td>\n",
              "    </tr>\n",
              "    <tr>\n",
              "      <th>36</th>\n",
              "      <td>Shri Atish D. Tripude</td>\n",
              "      <td>Police Authorities</td>\n",
              "      <td>21-09-2020</td>\n",
              "      <td>Disposed of on assurance given by police</td>\n",
              "      <td>Harassment of Newsmen</td>\n",
              "      <td>AnnualReport2021</td>\n",
              "      <td>Nagpur, Maharashtra</td>\n",
              "      <td>43</td>\n",
              "      <td>Complaint of Shri Deepak Nihalchand Gupta, Edi...</td>\n",
              "    </tr>\n",
              "    <tr>\n",
              "      <th>37</th>\n",
              "      <td>Shri Tarakaant Dwivedi</td>\n",
              "      <td>Shri Deven Bharti</td>\n",
              "      <td>21-09-2020</td>\n",
              "      <td>Disposed of being lack of substance</td>\n",
              "      <td>Harassment of Newsmen</td>\n",
              "      <td>AnnualReport2021</td>\n",
              "      <td>Mumbai, Maharashtra</td>\n",
              "      <td>44</td>\n",
              "      <td>Complaint of Shri Tarakaant Dwivedi, “Akela”, ...</td>\n",
              "    </tr>\n",
              "    <tr>\n",
              "      <th>38</th>\n",
              "      <td>Akela</td>\n",
              "      <td>Shri Deven Bharti</td>\n",
              "      <td>21-09-2020</td>\n",
              "      <td>Disposed of being lack of substance</td>\n",
              "      <td>Harassment of Newsmen</td>\n",
              "      <td>AnnualReport2021</td>\n",
              "      <td>Mumbai, Maharashtra</td>\n",
              "      <td>44</td>\n",
              "      <td>Complaint of Shri Tarakaant Dwivedi, “Akela”, ...</td>\n",
              "    </tr>\n",
              "    <tr>\n",
              "      <th>43</th>\n",
              "      <td>Shri Sudhir Dikshit</td>\n",
              "      <td>Shri Nareshpal Singh</td>\n",
              "      <td>22-01-2021</td>\n",
              "      <td>Disposed of with directions to police for fair...</td>\n",
              "      <td>Harassment of Newsmen</td>\n",
              "      <td>AnnualReport2021</td>\n",
              "      <td>U.P</td>\n",
              "      <td>49</td>\n",
              "      <td>Complaint of Shri Sudhir Dikshit, Bureau Chief...</td>\n",
              "    </tr>\n",
              "    <tr>\n",
              "      <th>44</th>\n",
              "      <td>Shri Sudhir Dikshit</td>\n",
              "      <td>Shri Manoj Sonekar</td>\n",
              "      <td>22-01-2021</td>\n",
              "      <td>Disposed of with directions to police for fair...</td>\n",
              "      <td>Harassment of Newsmen</td>\n",
              "      <td>AnnualReport2021</td>\n",
              "      <td>U.P</td>\n",
              "      <td>49</td>\n",
              "      <td>Complaint of Shri Sudhir Dikshit, Bureau Chief...</td>\n",
              "    </tr>\n",
              "    <tr>\n",
              "      <th>45</th>\n",
              "      <td>Shri Sudhir Dikshit</td>\n",
              "      <td>Shri Vaibhav Srivastav</td>\n",
              "      <td>22-01-2021</td>\n",
              "      <td>Disposed of with directions to police for fair...</td>\n",
              "      <td>Harassment of Newsmen</td>\n",
              "      <td>AnnualReport2021</td>\n",
              "      <td>U.P</td>\n",
              "      <td>49</td>\n",
              "      <td>Complaint of Shri Sudhir Dikshit, Bureau Chief...</td>\n",
              "    </tr>\n",
              "    <tr>\n",
              "      <th>46</th>\n",
              "      <td>Shri Sudhir Dikshit</td>\n",
              "      <td>Pilibheet</td>\n",
              "      <td>22-01-2021</td>\n",
              "      <td>Disposed of with directions to police for fair...</td>\n",
              "      <td>Harassment of Newsmen</td>\n",
              "      <td>AnnualReport2021</td>\n",
              "      <td>U.P</td>\n",
              "      <td>49</td>\n",
              "      <td>Complaint of Shri Sudhir Dikshit, Bureau Chief...</td>\n",
              "    </tr>\n",
              "  </tbody>\n",
              "</table>\n",
              "</div>"
            ],
            "text/plain": [
              "                      Complainant                     Against        Date  \\\n",
              "0     Shri Dinesh Singh Bhadoriya         Shri Mahavir Bhagel  15.11.2022   \n",
              "1   Shri Yogendra Singh Bhadoriya         Shri Mahavir Bhagel  15.11.2022   \n",
              "2           Sumer Singh Narwariya         Shri Mahavir Bhagel  15.11.2022   \n",
              "4               Shri Jagpal Singh          Shri Praveen Kumar  28.02.2023   \n",
              "5                      Dainik Aaj          Shri Praveen Kumar  28.02.2023   \n",
              "11            Shri Lavlesh Pandey          Police Authorities         NaN   \n",
              "12                Editor in Chief          Police Authorities         NaN   \n",
              "13       Shri Manish Kumar Rathor                   Tehsildar         NaN   \n",
              "14       Shri Manish Kumar Rathor                        M.P.         NaN   \n",
              "22             Shri Kulwant Singh   Smt. Jyoti Shah Narwariya         NaN   \n",
              "23             Shri Kulwant Singh  Shri Lakhvinder Singh Gill         NaN   \n",
              "24             Shri Kulwant Singh    Shri Pratap Singh Thakur         NaN   \n",
              "35   Shri Deepak Nihalchand Gupta          Police Authorities  21-09-2020   \n",
              "36          Shri Atish D. Tripude          Police Authorities  21-09-2020   \n",
              "37         Shri Tarakaant Dwivedi           Shri Deven Bharti  21-09-2020   \n",
              "38                          Akela           Shri Deven Bharti  21-09-2020   \n",
              "43            Shri Sudhir Dikshit        Shri Nareshpal Singh  22-01-2021   \n",
              "44            Shri Sudhir Dikshit          Shri Manoj Sonekar  22-01-2021   \n",
              "45            Shri Sudhir Dikshit      Shri Vaibhav Srivastav  22-01-2021   \n",
              "46            Shri Sudhir Dikshit                   Pilibheet  22-01-2021   \n",
              "\n",
              "                                             Decision          ComplaintType  \\\n",
              "0                                              Upheld  Harassment of Newsmen   \n",
              "1                                              Upheld  Harassment of Newsmen   \n",
              "2                                              Upheld  Harassment of Newsmen   \n",
              "4   Disposed of (with liberty to the Complainant t...  Harassment of Newsmen   \n",
              "5   Disposed of (with liberty to the Complainant t...  Harassment of Newsmen   \n",
              "11                                          Dismissed  Harassment of Newsmen   \n",
              "12                                          Dismissed  Harassment of Newsmen   \n",
              "13                                    Closure of Case  Harassment of Newsmen   \n",
              "14                                    Closure of Case  Harassment of Newsmen   \n",
              "22                        Disposed of with directions  Harassment of Newsmen   \n",
              "23                        Disposed of with directions  Harassment of Newsmen   \n",
              "24                        Disposed of with directions  Harassment of Newsmen   \n",
              "35           Disposed of on assurance given by police  Harassment of Newsmen   \n",
              "36           Disposed of on assurance given by police  Harassment of Newsmen   \n",
              "37                Disposed of being lack of substance  Harassment of Newsmen   \n",
              "38                Disposed of being lack of substance  Harassment of Newsmen   \n",
              "43  Disposed of with directions to police for fair...  Harassment of Newsmen   \n",
              "44  Disposed of with directions to police for fair...  Harassment of Newsmen   \n",
              "45  Disposed of with directions to police for fair...  Harassment of Newsmen   \n",
              "46  Disposed of with directions to police for fair...  Harassment of Newsmen   \n",
              "\n",
              "          ReportName                Locations  PrimaryKey  \\\n",
              "0   AnnualReport2023  Gwalior, Madhya Pradesh           0   \n",
              "1   AnnualReport2023  Gwalior, Madhya Pradesh           0   \n",
              "2   AnnualReport2023  Gwalior, Madhya Pradesh           0   \n",
              "4   AnnualReport2023                Gonda, UP           2   \n",
              "5   AnnualReport2023                Gonda, UP           2   \n",
              "11  AnnualReport2022                      NaN          13   \n",
              "12  AnnualReport2022                      NaN          13   \n",
              "13  AnnualReport2022                      M.P          14   \n",
              "14  AnnualReport2022                      M.P          14   \n",
              "22  AnnualReport2022              Bhopal, M.P          22   \n",
              "23  AnnualReport2022              Bhopal, M.P          22   \n",
              "24  AnnualReport2022              Bhopal, M.P          22   \n",
              "35  AnnualReport2021      Nagpur, Maharashtra          43   \n",
              "36  AnnualReport2021      Nagpur, Maharashtra          43   \n",
              "37  AnnualReport2021      Mumbai, Maharashtra          44   \n",
              "38  AnnualReport2021      Mumbai, Maharashtra          44   \n",
              "43  AnnualReport2021                      U.P          49   \n",
              "44  AnnualReport2021                      U.P          49   \n",
              "45  AnnualReport2021                      U.P          49   \n",
              "46  AnnualReport2021                      U.P          49   \n",
              "\n",
              "                                            Complaint  \n",
              "0   Complaint of Shri Dinesh Singh Bhadoriya, Shri...  \n",
              "1   Complaint of Shri Dinesh Singh Bhadoriya, Shri...  \n",
              "2   Complaint of Shri Dinesh Singh Bhadoriya, Shri...  \n",
              "4   Complaint of Shri Jagpal Singh, Correspondent,...  \n",
              "5   Complaint of Shri Jagpal Singh, Correspondent,...  \n",
              "11  Complaint of Shri Lavlesh Pandey, Editor in Ch...  \n",
              "12  Complaint of Shri Lavlesh Pandey, Editor in Ch...  \n",
              "13  Complaint of Shri Manish Kumar Rathor, Editor,...  \n",
              "14  Complaint of Shri Manish Kumar Rathor, Editor,...  \n",
              "22  Complaint of Shri Kulwant Singh, Managing Edit...  \n",
              "23  Complaint of Shri Kulwant Singh, Managing Edit...  \n",
              "24  Complaint of Shri Kulwant Singh, Managing Edit...  \n",
              "35  Complaint of Shri Deepak Nihalchand Gupta, Edi...  \n",
              "36  Complaint of Shri Deepak Nihalchand Gupta, Edi...  \n",
              "37  Complaint of Shri Tarakaant Dwivedi, “Akela”, ...  \n",
              "38  Complaint of Shri Tarakaant Dwivedi, “Akela”, ...  \n",
              "43  Complaint of Shri Sudhir Dikshit, Bureau Chief...  \n",
              "44  Complaint of Shri Sudhir Dikshit, Bureau Chief...  \n",
              "45  Complaint of Shri Sudhir Dikshit, Bureau Chief...  \n",
              "46  Complaint of Shri Sudhir Dikshit, Bureau Chief...  "
            ]
          },
          "metadata": {},
          "output_type": "display_data"
        }
      ],
      "source": [
        "primary_key_counts = df['PrimaryKey'].value_counts()\n",
        "single_occurrence_keys = primary_key_counts[primary_key_counts == 1].index\n",
        "df_single = df[df['PrimaryKey'].isin(single_occurrence_keys)]\n",
        "df_remaining = df[~df['PrimaryKey'].isin(single_occurrence_keys)]\n",
        "\n",
        "print(\"DataFrame with single occurrence of PrimaryKey:\")\n",
        "display(df_single.head())\n",
        "print(\"\\nDataFrame with remaining occurrences of PrimaryKey:\")\n",
        "display(df_remaining.head(20))"
      ]
    },
    {
      "cell_type": "code",
      "execution_count": 33,
      "metadata": {
        "id": "IR9DEXCSq6Vb"
      },
      "outputs": [
        {
          "data": {
            "text/plain": [
              "(1221, 9)"
            ]
          },
          "execution_count": 33,
          "metadata": {},
          "output_type": "execute_result"
        }
      ],
      "source": [
        "df_single.shape"
      ]
    },
    {
      "cell_type": "code",
      "execution_count": 34,
      "metadata": {
        "id": "WVkhIWWeenwB"
      },
      "outputs": [
        {
          "data": {
            "text/plain": [
              "(652, 9)"
            ]
          },
          "execution_count": 34,
          "metadata": {},
          "output_type": "execute_result"
        }
      ],
      "source": [
        "df_remaining.shape"
      ]
    },
    {
      "cell_type": "code",
      "execution_count": 35,
      "metadata": {
        "colab": {
          "base_uri": "https://localhost:8080/"
        },
        "id": "BIxR3964en1V",
        "outputId": "ce8ec9b0-aef3-4af2-8ea4-252243c53e8d"
      },
      "outputs": [
        {
          "data": {
            "text/html": [
              "<div>\n",
              "<style scoped>\n",
              "    .dataframe tbody tr th:only-of-type {\n",
              "        vertical-align: middle;\n",
              "    }\n",
              "\n",
              "    .dataframe tbody tr th {\n",
              "        vertical-align: top;\n",
              "    }\n",
              "\n",
              "    .dataframe thead th {\n",
              "        text-align: right;\n",
              "    }\n",
              "</style>\n",
              "<table border=\"1\" class=\"dataframe\">\n",
              "  <thead>\n",
              "    <tr style=\"text-align: right;\">\n",
              "      <th></th>\n",
              "      <th>Complainant</th>\n",
              "      <th>Against</th>\n",
              "      <th>Date</th>\n",
              "      <th>Decision</th>\n",
              "      <th>ComplaintType</th>\n",
              "      <th>ReportName</th>\n",
              "      <th>Locations</th>\n",
              "      <th>PrimaryKey</th>\n",
              "      <th>Complaint</th>\n",
              "    </tr>\n",
              "  </thead>\n",
              "  <tbody>\n",
              "    <tr>\n",
              "      <th>0</th>\n",
              "      <td>Shri Dinesh Singh Bhadoriya</td>\n",
              "      <td>Shri Mahavir Bhagel</td>\n",
              "      <td>15.11.2022</td>\n",
              "      <td>Upheld</td>\n",
              "      <td>Harassment of Newsmen</td>\n",
              "      <td>AnnualReport2023</td>\n",
              "      <td>Gwalior, Madhya Pradesh</td>\n",
              "      <td>0</td>\n",
              "      <td>Complaint of Shri Dinesh Singh Bhadoriya, Shri...</td>\n",
              "    </tr>\n",
              "    <tr>\n",
              "      <th>1</th>\n",
              "      <td>Shri Yogendra Singh Bhadoriya</td>\n",
              "      <td>Shri Mahavir Bhagel</td>\n",
              "      <td>15.11.2022</td>\n",
              "      <td>Upheld</td>\n",
              "      <td>Harassment of Newsmen</td>\n",
              "      <td>AnnualReport2023</td>\n",
              "      <td>Gwalior, Madhya Pradesh</td>\n",
              "      <td>0</td>\n",
              "      <td>Complaint of Shri Dinesh Singh Bhadoriya, Shri...</td>\n",
              "    </tr>\n",
              "    <tr>\n",
              "      <th>2</th>\n",
              "      <td>Sumer Singh Narwariya</td>\n",
              "      <td>Shri Mahavir Bhagel</td>\n",
              "      <td>15.11.2022</td>\n",
              "      <td>Upheld</td>\n",
              "      <td>Harassment of Newsmen</td>\n",
              "      <td>AnnualReport2023</td>\n",
              "      <td>Gwalior, Madhya Pradesh</td>\n",
              "      <td>0</td>\n",
              "      <td>Complaint of Shri Dinesh Singh Bhadoriya, Shri...</td>\n",
              "    </tr>\n",
              "    <tr>\n",
              "      <th>4</th>\n",
              "      <td>Shri Jagpal Singh</td>\n",
              "      <td>Shri Praveen Kumar</td>\n",
              "      <td>28.02.2023</td>\n",
              "      <td>Disposed of (with liberty to the Complainant t...</td>\n",
              "      <td>Harassment of Newsmen</td>\n",
              "      <td>AnnualReport2023</td>\n",
              "      <td>Gonda, UP</td>\n",
              "      <td>2</td>\n",
              "      <td>Complaint of Shri Jagpal Singh, Correspondent,...</td>\n",
              "    </tr>\n",
              "    <tr>\n",
              "      <th>5</th>\n",
              "      <td>Dainik Aaj</td>\n",
              "      <td>Shri Praveen Kumar</td>\n",
              "      <td>28.02.2023</td>\n",
              "      <td>Disposed of (with liberty to the Complainant t...</td>\n",
              "      <td>Harassment of Newsmen</td>\n",
              "      <td>AnnualReport2023</td>\n",
              "      <td>Gonda, UP</td>\n",
              "      <td>2</td>\n",
              "      <td>Complaint of Shri Jagpal Singh, Correspondent,...</td>\n",
              "    </tr>\n",
              "    <tr>\n",
              "      <th>...</th>\n",
              "      <td>...</td>\n",
              "      <td>...</td>\n",
              "      <td>...</td>\n",
              "      <td>...</td>\n",
              "      <td>...</td>\n",
              "      <td>...</td>\n",
              "      <td>...</td>\n",
              "      <td>...</td>\n",
              "      <td>...</td>\n",
              "    </tr>\n",
              "    <tr>\n",
              "      <th>1846</th>\n",
              "      <td>Shri Om Prakash Shrivastav</td>\n",
              "      <td>Bahraich</td>\n",
              "      <td>October 7, 2002</td>\n",
              "      <td>Settled</td>\n",
              "      <td>Facilities to the Press</td>\n",
              "      <td>AnnualReport2003</td>\n",
              "      <td>U.P</td>\n",
              "      <td>1756</td>\n",
              "      <td>Complaint of Shri Om Prakash Shrivastav, Bahra...</td>\n",
              "    </tr>\n",
              "    <tr>\n",
              "      <th>1855</th>\n",
              "      <td>Shri Rajinder Singla</td>\n",
              "      <td>Shri Deepak Ray Garg</td>\n",
              "      <td>October 7, 2002</td>\n",
              "      <td>Dismissed</td>\n",
              "      <td>Facilities to the Press</td>\n",
              "      <td>AnnualReport2003</td>\n",
              "      <td>Punjab, Sangrur</td>\n",
              "      <td>1765</td>\n",
              "      <td>Complaint of Shri Rajinder Singla, Press Repor...</td>\n",
              "    </tr>\n",
              "    <tr>\n",
              "      <th>1856</th>\n",
              "      <td>Press Reporter</td>\n",
              "      <td>Shri Deepak Ray Garg</td>\n",
              "      <td>October 7, 2002</td>\n",
              "      <td>Dismissed</td>\n",
              "      <td>Facilities to the Press</td>\n",
              "      <td>AnnualReport2003</td>\n",
              "      <td>Punjab, Sangrur</td>\n",
              "      <td>1765</td>\n",
              "      <td>Complaint of Shri Rajinder Singla, Press Repor...</td>\n",
              "    </tr>\n",
              "    <tr>\n",
              "      <th>1868</th>\n",
              "      <td>Editor</td>\n",
              "      <td>District Information Officer</td>\n",
              "      <td>January 24, 2003</td>\n",
              "      <td>Closed with observations</td>\n",
              "      <td>Facilities to the Press</td>\n",
              "      <td>AnnualReport2003</td>\n",
              "      <td>U.P, Aligarh</td>\n",
              "      <td>1779</td>\n",
              "      <td>Complaint of the Editor, Veer Yodha, Aligarh a...</td>\n",
              "    </tr>\n",
              "    <tr>\n",
              "      <th>1869</th>\n",
              "      <td>Veer Yodha</td>\n",
              "      <td>District Information Officer</td>\n",
              "      <td>January 24, 2003</td>\n",
              "      <td>Closed with observations</td>\n",
              "      <td>Facilities to the Press</td>\n",
              "      <td>AnnualReport2003</td>\n",
              "      <td>U.P, Aligarh</td>\n",
              "      <td>1779</td>\n",
              "      <td>Complaint of the Editor, Veer Yodha, Aligarh a...</td>\n",
              "    </tr>\n",
              "  </tbody>\n",
              "</table>\n",
              "<p>652 rows × 9 columns</p>\n",
              "</div>"
            ],
            "text/plain": [
              "                        Complainant                       Against  \\\n",
              "0       Shri Dinesh Singh Bhadoriya           Shri Mahavir Bhagel   \n",
              "1     Shri Yogendra Singh Bhadoriya           Shri Mahavir Bhagel   \n",
              "2             Sumer Singh Narwariya           Shri Mahavir Bhagel   \n",
              "4                 Shri Jagpal Singh            Shri Praveen Kumar   \n",
              "5                        Dainik Aaj            Shri Praveen Kumar   \n",
              "...                             ...                           ...   \n",
              "1846     Shri Om Prakash Shrivastav                      Bahraich   \n",
              "1855           Shri Rajinder Singla          Shri Deepak Ray Garg   \n",
              "1856                 Press Reporter          Shri Deepak Ray Garg   \n",
              "1868                         Editor  District Information Officer   \n",
              "1869                     Veer Yodha  District Information Officer   \n",
              "\n",
              "                  Date                                           Decision  \\\n",
              "0           15.11.2022                                             Upheld   \n",
              "1           15.11.2022                                             Upheld   \n",
              "2           15.11.2022                                             Upheld   \n",
              "4           28.02.2023  Disposed of (with liberty to the Complainant t...   \n",
              "5           28.02.2023  Disposed of (with liberty to the Complainant t...   \n",
              "...                ...                                                ...   \n",
              "1846   October 7, 2002                                            Settled   \n",
              "1855   October 7, 2002                                         Dismissed    \n",
              "1856   October 7, 2002                                         Dismissed    \n",
              "1868  January 24, 2003                           Closed with observations   \n",
              "1869  January 24, 2003                           Closed with observations   \n",
              "\n",
              "                 ComplaintType        ReportName                Locations  \\\n",
              "0        Harassment of Newsmen  AnnualReport2023  Gwalior, Madhya Pradesh   \n",
              "1        Harassment of Newsmen  AnnualReport2023  Gwalior, Madhya Pradesh   \n",
              "2        Harassment of Newsmen  AnnualReport2023  Gwalior, Madhya Pradesh   \n",
              "4        Harassment of Newsmen  AnnualReport2023                Gonda, UP   \n",
              "5        Harassment of Newsmen  AnnualReport2023                Gonda, UP   \n",
              "...                        ...               ...                      ...   \n",
              "1846  Facilities to the Press   AnnualReport2003                      U.P   \n",
              "1855  Facilities to the Press   AnnualReport2003          Punjab, Sangrur   \n",
              "1856  Facilities to the Press   AnnualReport2003          Punjab, Sangrur   \n",
              "1868  Facilities to the Press   AnnualReport2003             U.P, Aligarh   \n",
              "1869  Facilities to the Press   AnnualReport2003             U.P, Aligarh   \n",
              "\n",
              "      PrimaryKey                                          Complaint  \n",
              "0              0  Complaint of Shri Dinesh Singh Bhadoriya, Shri...  \n",
              "1              0  Complaint of Shri Dinesh Singh Bhadoriya, Shri...  \n",
              "2              0  Complaint of Shri Dinesh Singh Bhadoriya, Shri...  \n",
              "4              2  Complaint of Shri Jagpal Singh, Correspondent,...  \n",
              "5              2  Complaint of Shri Jagpal Singh, Correspondent,...  \n",
              "...          ...                                                ...  \n",
              "1846        1756  Complaint of Shri Om Prakash Shrivastav, Bahra...  \n",
              "1855        1765  Complaint of Shri Rajinder Singla, Press Repor...  \n",
              "1856        1765  Complaint of Shri Rajinder Singla, Press Repor...  \n",
              "1868        1779  Complaint of the Editor, Veer Yodha, Aligarh a...  \n",
              "1869        1779  Complaint of the Editor, Veer Yodha, Aligarh a...  \n",
              "\n",
              "[652 rows x 9 columns]"
            ]
          },
          "execution_count": 35,
          "metadata": {},
          "output_type": "execute_result"
        }
      ],
      "source": [
        "df_remaining"
      ]
    },
    {
      "cell_type": "code",
      "execution_count": null,
      "metadata": {
        "id": "srnO0KU9en4I"
      },
      "outputs": [],
      "source": [
        "#df_remaining.to_csv(\"Need_to_be_fixed.csv\",sep=\";\")"
      ]
    },
    {
      "cell_type": "code",
      "execution_count": 38,
      "metadata": {
        "id": "WvcPPfkIgPSI"
      },
      "outputs": [
        {
          "data": {
            "text/plain": [
              "(610, 10)"
            ]
          },
          "execution_count": 38,
          "metadata": {},
          "output_type": "execute_result"
        }
      ],
      "source": [
        "df_remaining=pd.read_csv(\"Need_to_be_fixed.csv\",sep=\";\")\n",
        "df_remaining.shape"
      ]
    },
    {
      "cell_type": "code",
      "execution_count": null,
      "metadata": {
        "id": "fHM7ULTEgPU3"
      },
      "outputs": [],
      "source": []
    },
    {
      "cell_type": "code",
      "execution_count": null,
      "metadata": {
        "id": "vSqRj3jSgPXt"
      },
      "outputs": [],
      "source": []
    },
    {
      "cell_type": "code",
      "execution_count": null,
      "metadata": {
        "id": "0Fugja1lgPaW"
      },
      "outputs": [],
      "source": []
    },
    {
      "cell_type": "code",
      "execution_count": null,
      "metadata": {
        "id": "kVA65k7HgPdD"
      },
      "outputs": [],
      "source": []
    },
    {
      "cell_type": "code",
      "execution_count": null,
      "metadata": {
        "id": "hbD5VDaYgPfu"
      },
      "outputs": [],
      "source": []
    },
    {
      "cell_type": "code",
      "execution_count": null,
      "metadata": {
        "id": "SNUVeYS0gPij"
      },
      "outputs": [],
      "source": []
    },
    {
      "cell_type": "code",
      "execution_count": null,
      "metadata": {
        "id": "IFUhTORfgPlW"
      },
      "outputs": [],
      "source": []
    },
    {
      "cell_type": "code",
      "execution_count": null,
      "metadata": {
        "id": "zOpYXCvBgPoD"
      },
      "outputs": [],
      "source": []
    },
    {
      "cell_type": "code",
      "execution_count": null,
      "metadata": {
        "id": "nibfnHxKgPqr"
      },
      "outputs": [],
      "source": []
    },
    {
      "cell_type": "code",
      "execution_count": null,
      "metadata": {
        "id": "Xd3LxtjugPtb"
      },
      "outputs": [],
      "source": []
    },
    {
      "cell_type": "code",
      "execution_count": null,
      "metadata": {
        "id": "OY2XO6P0gPwZ"
      },
      "outputs": [],
      "source": []
    },
    {
      "cell_type": "code",
      "execution_count": null,
      "metadata": {
        "id": "ndDTygkbgPzQ"
      },
      "outputs": [],
      "source": []
    },
    {
      "cell_type": "code",
      "execution_count": null,
      "metadata": {
        "id": "jYrPbR1egP1w"
      },
      "outputs": [],
      "source": []
    },
    {
      "cell_type": "code",
      "execution_count": null,
      "metadata": {
        "id": "1j14MQOOgP4Z"
      },
      "outputs": [],
      "source": []
    },
    {
      "cell_type": "code",
      "execution_count": null,
      "metadata": {
        "id": "_DVuuoR0gP7e"
      },
      "outputs": [],
      "source": []
    },
    {
      "cell_type": "code",
      "execution_count": null,
      "metadata": {
        "id": "Ng98fpHSgP-X"
      },
      "outputs": [],
      "source": []
    },
    {
      "cell_type": "code",
      "execution_count": null,
      "metadata": {
        "id": "32VMT7bKgQBY"
      },
      "outputs": [],
      "source": []
    },
    {
      "cell_type": "code",
      "execution_count": null,
      "metadata": {
        "id": "4pPs1mZ7gQEL"
      },
      "outputs": [],
      "source": []
    },
    {
      "cell_type": "code",
      "execution_count": null,
      "metadata": {
        "id": "Wyk7kN2-gQHK"
      },
      "outputs": [],
      "source": []
    },
    {
      "cell_type": "code",
      "execution_count": null,
      "metadata": {
        "id": "16-KLFxQgQKI"
      },
      "outputs": [],
      "source": []
    },
    {
      "cell_type": "code",
      "execution_count": null,
      "metadata": {
        "id": "5bqFIXFZgQNE"
      },
      "outputs": [],
      "source": []
    },
    {
      "cell_type": "code",
      "execution_count": null,
      "metadata": {
        "id": "8j60uBBkgQP4"
      },
      "outputs": [],
      "source": []
    }
  ],
  "metadata": {
    "colab": {
      "provenance": []
    },
    "kernelspec": {
      "display_name": "pyserini",
      "language": "python",
      "name": "python3"
    },
    "language_info": {
      "codemirror_mode": {
        "name": "ipython",
        "version": 3
      },
      "file_extension": ".py",
      "mimetype": "text/x-python",
      "name": "python",
      "nbconvert_exporter": "python",
      "pygments_lexer": "ipython3",
      "version": "3.10.16"
    }
  },
  "nbformat": 4,
  "nbformat_minor": 0
}
